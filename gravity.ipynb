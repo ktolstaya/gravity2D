{
 "cells": [
  {
   "cell_type": "code",
   "execution_count": 60,
   "metadata": {},
   "outputs": [],
   "source": [
    "import numpy as np\n",
    "import cv2\n",
    "import matplotlib\n",
    "import matplotlib.pyplot as plt\n",
    "from MNinv import MNinv\n",
    "from MSinv1 import MSinv\n",
    "%matplotlib inline"
   ]
  },
  {
   "cell_type": "code",
   "execution_count": 61,
   "metadata": {},
   "outputs": [
    {
     "name": "stdout",
     "output_type": "stream",
     "text": [
      "2D gravity inversion\n",
      "Setting the domain\n",
      "Setting the model\n"
     ]
    }
   ],
   "source": [
    "print('2D gravity inversion')\n",
    "gamma=6.67*1e-4     # % gravity constant*10^7\n",
    "#% domain (in meters)\n",
    "print('Setting the domain');\n",
    "X=1000              # % width of the domain\n",
    "Z=250               # % height of the domain \n",
    "Zmin=25             # % depth to the upper boundary of the domain\n",
    "\n",
    "Nx=50\n",
    "hx=X/Nx             # % number of cells and size of the cells\n",
    "Nz=10\n",
    "hz=Z/Nz \n",
    "\n",
    "Nd=50               # % number of measurements and distance between measurements\n",
    "hs=X/Nd             \n",
    "\n",
    "#% coordinates of the mesh\n",
    "xx=np.linspace(hx/2,1000-hx/2,Nx)          # % points of this grid are in the middle of each cell\n",
    "zz=np.linspace(Zmin+hz/2,Z+Zmin-hz/2,Nz)   # % for more accurate using of rectangular method\n",
    "xs=np.linspace(0,X,Nd);\n",
    "Nm=Nx*Nz\n",
    "print('Setting the model')\n",
    "dens=np.zeros((Nx,Nz))                     # %  true density  in 10*g/cc\n",
    "dens[15:19,4:7]=5 \n"
   ]
  },
  {
   "cell_type": "code",
   "execution_count": 62,
   "metadata": {},
   "outputs": [
    {
     "name": "stdout",
     "output_type": "stream",
     "text": [
      "Computation of the forward problem matrix\n"
     ]
    }
   ],
   "source": [
    "print('Computation of the forward problem matrix');\n",
    "A=np.zeros((Nd,Nm))  #      % matrix of the forward problem\n",
    "[xk,zk]=np.meshgrid(xx,zz)\n",
    "for i in range(Nd):\n",
    "   A[i,:]=2*gamma*hx*hz*( zk.flatten()/((xs[i]-xk.flatten())**2+zk.flatten()**2))\n",
    "\n",
    "# Compute \"measured\" data\n",
    "d=np.dot(A,dens.T.flatten()) #  % \"measured\" data\n",
    "#%d=d+0.05*(rand(Nd,1)-0.5).*d;  % adding 5% noise\n",
    "#%disp('Noise 5% added');\n"
   ]
  },
  {
   "cell_type": "code",
   "execution_count": 63,
   "metadata": {},
   "outputs": [
    {
     "name": "stdout",
     "output_type": "stream",
     "text": [
      "Computation of weighting matrix\n",
      "Starting smooth inversion...\n",
      "alpha= 0.8616705961546057\n",
      "iteration 1 , misfit= 192.19994829321016 , functional= 192.19994829321016\n",
      "iteration  3 , misfit= 24.250273516976208 , functional= 29.926979415583013\n",
      "iteration  4 , misfit= 16.206622042423366 , functional= 21.29713670724876\n",
      "iteration  5 , misfit= 15.954114764798934 , functional= 20.802073203392208\n",
      "iteration  6 , misfit= 12.556072451046246 , functional= 15.809105582228018\n",
      "iteration  7 , misfit= 10.538988256653873 , functional= 12.87243266205681\n",
      "iteration  8 , misfit= 9.955935934566044 , functional= 12.033520553984731\n",
      "iteration  9 , misfit= 9.319704698403084 , functional= 11.310203599942238\n",
      "iteration  10 , misfit= 7.879051795902711 , functional= 9.82369882752493\n",
      "iteration  11 , misfit= 4.951741004140583 , functional= 6.6194893370432135\n",
      "iteration  12 , misfit= 1.7914167610856435 , functional= 2.8286118228910766\n",
      "iteration  13 , misfit= 0.3478185402171234 , functional= 0.8575710422386931\n",
      "iteration  14 , misfit= 0.057016082362812186 , functional= 0.325750835722325\n",
      "iteration  15 , misfit= 0.0470636274987394 , functional= 0.2112652412342675\n",
      "iteration  16 , misfit= 0.08483033742918433 , functional= 0.193799980240417\n",
      "iteration  17 , misfit= 0.12779391514704333 , functional= 0.20251738332340719\n",
      "alpha= 0.43083529807730286\n",
      "I made  16  iterations to find min norm solution, misfit= 0.11011625904968393\n",
      "iteration  18 , misfit= 0.15072200879267075 , functional= 0.17048082146901564\n",
      "iteration  19 , misfit= 0.16999524068026825 , functional= 0.18306804590496\n",
      "iteration  20 , misfit= 0.1863352951733738 , functional= 0.19412644128216408\n",
      "iteration  21 , misfit= 0.20030233605122108 , functional= 0.20381554558964976\n",
      "iteration  22 , misfit= 0.21232844704073006 , functional= 0.21231179325368316\n",
      "iteration  23 , misfit= 0.22274858599610786 , functional= 0.2197779217266273\n",
      "iteration  24 , misfit= 0.23182464673693978 , functional= 0.22635492722272912\n",
      "iteration  25 , misfit= 0.23976339611498557 , functional= 0.23216192566989466\n",
      "iteration  26 , misfit= 0.24672967298643722 , functional= 0.2372985440734573\n",
      "iteration  27 , misfit= 0.25285610641829664 , functional= 0.24184785845231296\n",
      "iteration  28 , misfit= 0.2582503235591431 , functional= 0.24587917636878368\n",
      "iteration  29 , misfit= 0.26300035206060757 , functional= 0.24945045322123052\n",
      "iteration  30 , misfit= 0.267178717327827 , functional= 0.25261031620113217\n",
      "iteration  31 , misfit= 0.2708455875478664 , functional= 0.2553997337192784\n",
      "alpha= 0.21541764903865143\n",
      "I made  30  iterations to find min norm solution, misfit= 0.23337967888821454\n"
     ]
    }
   ],
   "source": [
    "print('Computation of weighting matrix')\n",
    "Wm=np.sqrt(np.sqrt(np.sum(A**2,axis=0))).T  #  % weighting matrix\n",
    "mapr=np.zeros(Nm)\n",
    "m=np.zeros(Nm)\n",
    "# %-----------------------------------------------------\n",
    "eps=0.00000001   #   % stop criteria - misfit < eps\n",
    "SmoothNit=30     #   % number of iterations for smooth inversion\n",
    "q=0.5            #   % relaxation parameter for alpha\n",
    "                 #   % focusing parameter\n",
    "ml=-0.01*np.ones(Nm)   # %-0.01      % m low - lower density constrain\n",
    "mu=5*np.ones(Nm)       # % 5       % m upper - upper density constrain\n",
    "#%  run smooth inversion\n",
    "m0, x, al, P, S, I=MNinv(A,Wm,d,mapr,mapr,mu,ml,eps,q,SmoothNit)"
   ]
  },
  {
   "cell_type": "code",
   "execution_count": 64,
   "metadata": {},
   "outputs": [
    {
     "name": "stdout",
     "output_type": "stream",
     "text": [
      "Starting MS inversion...\n",
      "iteration  0 , misfit= 0.4819421213358869 , functional=%f 0.415275355003509\n",
      "iteration  0 , misfit= 0.024336628533993074 , functional= 0.6114027072236274\n",
      "iteration  1 , misfit= 0.006569317957872994 , functional= 0.5629214622015372\n",
      "iteration  2 , misfit= 0.10027099126757068 , functional= 0.7114524052714001\n",
      "alpha= 0.00028338766658413556\n",
      "I made  2  iterations to find focused solution, misfit/norm(d)= 0.10027099126757068\n",
      "iteration  3 , misfit= 0.009996996241623748 , functional= 0.28618442774979613\n",
      "iteration  4 , misfit= 0.010274492943019842 , functional= 0.27195634451896933\n",
      "iteration  5 , misfit= 0.010670820544325619 , functional= 0.2710177623709133\n",
      "iteration  6 , misfit= 0.17179501774506167 , functional= 0.5653201701614616\n",
      "alpha= 0.00014169383329206778\n",
      "I made  6  iterations to find focused solution, misfit/norm(d)= 0.17179501774506167\n",
      "iteration  7 , misfit= 0.014575392315775702 , functional= 0.14526936178327718\n",
      "iteration  8 , misfit= 0.01151013400414866 , functional= 0.14215927751385962\n",
      "iteration  9 , misfit= 0.005148395087298173 , functional= 0.11859717557315824\n",
      "iteration  10 , misfit= 0.0043963230873465 , functional= 0.1152745940936613\n",
      "iteration  11 , misfit= 0.004245304434465213 , functional= 0.11336531987357634\n",
      "iteration  12 , misfit= 0.11765645088305503 , functional= 0.3196859557207909\n",
      "alpha= 7.084691664603389e-05\n",
      "I made  12  iterations to find focused solution, misfit/norm(d)= 0.11765645088305503\n",
      "iteration  13 , misfit= 0.01189126827622044 , functional= 0.06995992996560116\n",
      "iteration  14 , misfit= 0.0246099360922514 , functional= 0.09100307674418955\n",
      "alpha= 3.5423458323016945e-05\n",
      "I made  14  iterations to find focused solution, misfit/norm(d)= 0.0246099360922514\n",
      "iteration  15 , misfit= 0.09861316974903822 , functional= 0.23184663623169852\n",
      "alpha= 1.7711729161508473e-05\n",
      "I made  15  iterations to find focused solution, misfit/norm(d)= 0.09861316974903822\n",
      "iteration  16 , misfit= 0.017184039707020902 , functional= 0.047213929921233404\n",
      "iteration  17 , misfit= 0.003151516557452907 , functional= 0.01673496834728717\n",
      "iteration  18 , misfit= 0.002092414698141014 , functional= 0.014393552604789953\n",
      "iteration  19 , misfit= 0.0019445925012797282 , functional= 0.014046929444949102\n",
      "iteration  20 , misfit= 0.0018203907325592592 , functional= 0.013743334398583594\n",
      "iteration  21 , misfit= 0.0017681231627920753 , functional= 0.013615378373900176\n",
      "iteration  22 , misfit= 0.003949164409542894 , functional= 0.017786084630693387\n",
      "alpha= 8.855864580754236e-06\n",
      "I made  22  iterations to find focused solution, misfit/norm(d)= 0.003949164409542894\n",
      "iteration  23 , misfit= 0.0012574831883948273 , functional= 0.007494308201454551\n",
      "iteration  24 , misfit= 0.0015179894124443555 , functional= 0.007904667835011855\n",
      "alpha= 4.427932290377118e-06\n",
      "I made  24  iterations to find focused solution, misfit/norm(d)= 0.0015179894124443555\n",
      "iteration  25 , misfit= 0.0016184272897787112 , functional= 0.005758236370863972\n",
      "iteration  26 , misfit= 0.0007709862477429337 , functional= 0.003954533374844557\n",
      "iteration  27 , misfit= 0.0006317131267624689 , functional= 0.0036570244931647014\n",
      "iteration  28 , misfit= 0.000349533524446435 , functional= 0.0030549427423258503\n",
      "iteration  29 , misfit= 0.00020291557544439308 , functional= 0.0027425117033848716\n",
      "iteration  30 , misfit= 0.0001869263243275074 , functional= 0.0027077902372186474\n",
      "iteration  31 , misfit= 0.00018469248025356933 , functional= 0.0027029153499797923\n",
      "iteration  32 , misfit= 0.0001794334789417108 , functional= 0.0026907465907748313\n",
      "iteration  33 , misfit= 0.00015970098939337428 , functional= 0.002644566418855258\n",
      "iteration  34 , misfit= 0.0001455867970546585 , functional= 0.0026096899480821745\n",
      "iteration  35 , misfit= 0.00014435595456600858 , functional= 0.0026065927460773852\n",
      "iteration  36 , misfit= 0.00012371028633345165 , functional= 0.002554277207328428\n",
      "iteration  37 , misfit= 0.00012267799025301733 , functional= 0.002551473033583173\n",
      "iteration  38 , misfit= 0.0004376493406621124 , functional= 0.0031599863670945957\n",
      "alpha= 2.213966145188559e-06\n",
      "I made  38  iterations to find focused solution, misfit/norm(d)= 0.0004376493406621124\n",
      "iteration  39 , misfit= 0.00013923715730208687 , functional= 0.0014298772579824208\n",
      "iteration  40 , misfit= 0.0008015690214178348 , functional= 0.002771663221929334\n",
      "alpha= 1.1069830725942795e-06\n",
      "I made  40  iterations to find focused solution, misfit/norm(d)= 0.0008015690214178348\n",
      "iteration  41 , misfit= 0.00019712465910666757 , functional= 0.0009750880230476069\n",
      "iteration  42 , misfit= 0.0006039966309554693 , functional= 0.0018047487341826028\n",
      "alpha= 5.534915362971398e-07\n",
      "I made  42  iterations to find focused solution, misfit/norm(d)= 0.0006039966309554693\n",
      "iteration  43 , misfit= 0.0003592268367617343 , functional= 0.0010285298683362534\n",
      "alpha= 2.767457681485699e-07\n",
      "I made  43  iterations to find focused solution, misfit/norm(d)= 0.0003592268367617343\n",
      "iteration  44 , misfit= 0.00024235053883538826 , functional= 0.0006413644298248992\n",
      "iteration  45 , misfit= 0.00030390559224822717 , functional= 0.0007705657803955758\n",
      "alpha= 1.3837288407428494e-07\n",
      "I made  45  iterations to find focused solution, misfit/norm(d)= 0.00030390559224822717\n",
      "iteration  46 , misfit= 0.00016614166685262913 , functional= 0.0004134744151493778\n",
      "iteration  47 , misfit= 0.00015808902302174029 , functional= 0.00039615306767156654\n",
      "iteration  48 , misfit= 0.00014650393172265614 , functional= 0.00037182680382528234\n",
      "iteration  49 , misfit= 0.00014115115391386256 , functional= 0.0003606347604171407\n",
      "iteration  50 , misfit= 0.00013952759354929537 , functional= 0.00035724175757975284\n",
      "alpha= 6.918644203714247e-08\n",
      "I made  50  iterations to find focused solution, misfit/norm(d)= 0.00013952759354929537\n"
     ]
    }
   ],
   "source": [
    "m0[m0<0]=0\n",
    "e=0.0009;\n",
    "MSNit=50          #   % number of iterations for Minimum Support inversion\n",
    "#run Minimum Support inversion\n",
    "#    % to use zero first iteration, do m0=m0*0;\n",
    "me, x, al, P, S, I=MSinv(A,Wm,d,m0,mapr,mu,ml,eps,q,e,MSNit,Nz)"
   ]
  },
  {
   "cell_type": "code",
   "execution_count": 65,
   "metadata": {},
   "outputs": [
    {
     "data": {
      "text/plain": [
       "<matplotlib.colorbar.Colorbar at 0x1818361ee88>"
      ]
     },
     "execution_count": 65,
     "metadata": {},
     "output_type": "execute_result"
    },
    {
     "data": {
      "image/png": "[encoded data removed]",
      "text/plain": [
       "<Figure size 432x504 with 7 Axes>"
      ]
     },
     "metadata": {},
     "output_type": "display_data"
    }
   ],
   "source": [
    "plt.figure(figsize=(6,7)) \n",
    "matplotlib.rc('font', size=7) \n",
    "plt.subplot(4,1,1)\n",
    "plt.plot(d)\n",
    "plt.title('Measured gravity anomaly')\n",
    "plt.subplot(4,1,2)\n",
    "plt.imshow(np.reshape(m0,(Nz,Nx)))\n",
    "plt.ylabel('Minimum-norm solution')\n",
    "plt.colorbar()\n",
    "plt.subplot(4,1,3)\n",
    "plt.imshow(np.reshape(me,(Nz,Nx)))\n",
    "plt.ylabel('Focused solution')\n",
    "plt.colorbar()\n",
    "plt.subplot(4,1,4)\n",
    "plt.imshow(dens.T)\n",
    "plt.ylabel('True density (10*g/cc)')\n",
    "plt.colorbar()"
   ]
  },
  {
   "cell_type": "code",
   "execution_count": null,
   "metadata": {},
   "outputs": [],
   "source": []
  }
 ],
 "metadata": {
  "kernelspec": {
   "display_name": "Python 3 (Spyder)",
   "language": "python3",
   "name": "python3"
  },
  "language_info": {
   "codemirror_mode": {
    "name": "ipython",
    "version": 3
   },
   "file_extension": ".py",
   "mimetype": "text/x-python",
   "name": "python",
   "nbconvert_exporter": "python",
   "pygments_lexer": "ipython3",
   "version": "3.7.9"
  }
 },
 "nbformat": 4,
 "nbformat_minor": 4
}
